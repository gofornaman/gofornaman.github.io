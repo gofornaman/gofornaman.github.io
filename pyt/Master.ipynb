{
 "cells": [
  {
   "cell_type": "markdown",
   "metadata": {},
   "source": [
    "## PYT Assignment - Propensity Model\n",
    "\n",
    "#### Step 1: Problem Definition & Proposed Solution\n",
    "  - Objective here is to build a propensity model to predict if a particular lead will convert or not (booked a trip with PYT)\n",
    "  - First we can do a level of customer segmentation based on existing features in deciles\n",
    "\n",
    "----------\n",
    "\n",
    "#### Step 2: Hypothesis generation\n",
    "What are the factors that may affect conversion?\n",
    "  - Lead Turn around time (TAT)\n",
    "  - When was the lead generated?\n",
    "  - What was the channel through which it was generated?\n",
    "  - Personal characteristics (Age, Gender, City etc)\n",
    "  - When was the lead last active?\n",
    "-------        \n",
    "#### Step 3: Understanding the dataset \n",
    "<b> 3.1 - Import necessary libs and read data </b>"
   ]
  },
  {
   "cell_type": "code",
   "execution_count": 1,
   "metadata": {},
   "outputs": [
    {
     "data": {
      "text/html": [
       "<div>\n",
       "<style scoped>\n",
       "    .dataframe tbody tr th:only-of-type {\n",
       "        vertical-align: middle;\n",
       "    }\n",
       "\n",
       "    .dataframe tbody tr th {\n",
       "        vertical-align: top;\n",
       "    }\n",
       "\n",
       "    .dataframe thead th {\n",
       "        text-align: right;\n",
       "    }\n",
       "</style>\n",
       "<table border=\"1\" class=\"dataframe\">\n",
       "  <thead>\n",
       "    <tr style=\"text-align: right;\">\n",
       "      <th></th>\n",
       "      <th>booked_y_n</th>\n",
       "      <th>LeadId</th>\n",
       "      <th>Surname</th>\n",
       "      <th>months_since_lead_gen</th>\n",
       "      <th>lead_gen_channel</th>\n",
       "      <th>Gender</th>\n",
       "      <th>Age</th>\n",
       "      <th>City</th>\n",
       "      <th>airline_loyalty_tier</th>\n",
       "      <th>no_of_family_members</th>\n",
       "      <th>is_6M_enquiry</th>\n",
       "      <th>is_3M_active</th>\n",
       "    </tr>\n",
       "  </thead>\n",
       "  <tbody>\n",
       "    <tr>\n",
       "      <th>0</th>\n",
       "      <td>1</td>\n",
       "      <td>15634602</td>\n",
       "      <td>Hargrave</td>\n",
       "      <td>4</td>\n",
       "      <td>Networks</td>\n",
       "      <td>Female</td>\n",
       "      <td>42</td>\n",
       "      <td>Bangalore</td>\n",
       "      <td>None</td>\n",
       "      <td>1</td>\n",
       "      <td>1</td>\n",
       "      <td>1</td>\n",
       "    </tr>\n",
       "    <tr>\n",
       "      <th>1</th>\n",
       "      <td>0</td>\n",
       "      <td>15647311</td>\n",
       "      <td>Hill</td>\n",
       "      <td>4</td>\n",
       "      <td>Organic</td>\n",
       "      <td>Female</td>\n",
       "      <td>41</td>\n",
       "      <td>Hyderabad</td>\n",
       "      <td>None</td>\n",
       "      <td>1</td>\n",
       "      <td>1</td>\n",
       "      <td>0</td>\n",
       "    </tr>\n",
       "    <tr>\n",
       "      <th>2</th>\n",
       "      <td>1</td>\n",
       "      <td>15619304</td>\n",
       "      <td>Onio</td>\n",
       "      <td>3</td>\n",
       "      <td>Networks</td>\n",
       "      <td>Female</td>\n",
       "      <td>42</td>\n",
       "      <td>Mumbai</td>\n",
       "      <td>Platinum</td>\n",
       "      <td>3</td>\n",
       "      <td>0</td>\n",
       "      <td>1</td>\n",
       "    </tr>\n",
       "    <tr>\n",
       "      <th>3</th>\n",
       "      <td>0</td>\n",
       "      <td>15701354</td>\n",
       "      <td>Boni</td>\n",
       "      <td>4</td>\n",
       "      <td>Networks</td>\n",
       "      <td>Female</td>\n",
       "      <td>39</td>\n",
       "      <td>Hyderabad</td>\n",
       "      <td>None</td>\n",
       "      <td>2</td>\n",
       "      <td>0</td>\n",
       "      <td>0</td>\n",
       "    </tr>\n",
       "    <tr>\n",
       "      <th>4</th>\n",
       "      <td>0</td>\n",
       "      <td>15737888</td>\n",
       "      <td>Mitchell</td>\n",
       "      <td>6</td>\n",
       "      <td>Organic</td>\n",
       "      <td>Female</td>\n",
       "      <td>43</td>\n",
       "      <td>Bangalore</td>\n",
       "      <td>Base</td>\n",
       "      <td>1</td>\n",
       "      <td>1</td>\n",
       "      <td>1</td>\n",
       "    </tr>\n",
       "  </tbody>\n",
       "</table>\n",
       "</div>"
      ],
      "text/plain": [
       "   booked_y_n    LeadId   Surname  months_since_lead_gen lead_gen_channel  \\\n",
       "0           1  15634602  Hargrave                      4         Networks   \n",
       "1           0  15647311      Hill                      4          Organic   \n",
       "2           1  15619304      Onio                      3         Networks   \n",
       "3           0  15701354      Boni                      4         Networks   \n",
       "4           0  15737888  Mitchell                      6          Organic   \n",
       "\n",
       "   Gender  Age       City airline_loyalty_tier  no_of_family_members  \\\n",
       "0  Female   42  Bangalore                 None                     1   \n",
       "1  Female   41  Hyderabad                 None                     1   \n",
       "2  Female   42     Mumbai             Platinum                     3   \n",
       "3  Female   39  Hyderabad                 None                     2   \n",
       "4  Female   43  Bangalore                 Base                     1   \n",
       "\n",
       "   is_6M_enquiry  is_3M_active  \n",
       "0              1             1  \n",
       "1              1             0  \n",
       "2              0             1  \n",
       "3              0             0  \n",
       "4              1             1  "
      ]
     },
     "execution_count": 1,
     "metadata": {},
     "output_type": "execute_result"
    }
   ],
   "source": [
    "import numpy as np\n",
    "import pandas as pd\n",
    "import seaborn as sns\n",
    "sns.set()\n",
    "df = pd.read_csv('Modeling-Assignment Dataset.csv')\n",
    "df.head()"
   ]
  },
  {
   "cell_type": "markdown",
   "metadata": {},
   "source": [
    "<b> 3.2 - Changing data type from int64 to object </b>"
   ]
  },
  {
   "cell_type": "code",
   "execution_count": 2,
   "metadata": {},
   "outputs": [
    {
     "name": "stdout",
     "output_type": "stream",
     "text": [
      "(10000, 12)\n",
      "booked_y_n                int64\n",
      "LeadId                   object\n",
      "Surname                  object\n",
      "months_since_lead_gen    object\n",
      "lead_gen_channel         object\n",
      "Gender                   object\n",
      "Age                       int64\n",
      "City                     object\n",
      "airline_loyalty_tier     object\n",
      "no_of_family_members     object\n",
      "is_6M_enquiry            object\n",
      "is_3M_active             object\n",
      "dtype: object\n"
     ]
    }
   ],
   "source": [
    "print(df.shape)\n",
    "df.LeadId = df.LeadId.astype(str)\n",
    "df.months_since_lead_gen = df.months_since_lead_gen.astype(str)\n",
    "df.no_of_family_members = df.no_of_family_members.astype(str)\n",
    "df.is_6M_enquiry = df.is_6M_enquiry.astype(str)\n",
    "df.is_3M_active = df.is_3M_active.astype(str)\n",
    "#df.booked_y_n = df.booked_y_n.astype(str)\n",
    "print(df.dtypes)"
   ]
  },
  {
   "cell_type": "markdown",
   "metadata": {},
   "source": [
    "<b> 3.2 - Understanding categorical vars </b>"
   ]
  },
  {
   "cell_type": "code",
   "execution_count": 3,
   "metadata": {},
   "outputs": [
    {
     "data": {
      "text/plain": [
       "None        0.5694\n",
       "Base        0.1672\n",
       "Silver      0.1465\n",
       "Platinum    0.0598\n",
       "Gold        0.0571\n",
       "Name: airline_loyalty_tier, dtype: float64"
      ]
     },
     "execution_count": 3,
     "metadata": {},
     "output_type": "execute_result"
    }
   ],
   "source": [
    "cat_var = df.dtypes.loc[df.dtypes == 'object'].index\n",
    "#print(cat_var)\n",
    "df['airline_loyalty_tier'].value_counts()/df.shape[0]"
   ]
  },
  {
   "cell_type": "code",
   "execution_count": 4,
   "metadata": {},
   "outputs": [
    {
     "data": {
      "text/plain": [
       "Networks    0.5014\n",
       "Direct      0.2509\n",
       "Organic     0.2477\n",
       "Name: lead_gen_channel, dtype: float64"
      ]
     },
     "execution_count": 4,
     "metadata": {},
     "output_type": "execute_result"
    }
   ],
   "source": [
    "df['lead_gen_channel'].value_counts()/df.shape[0]"
   ]
  },
  {
   "cell_type": "markdown",
   "metadata": {},
   "source": [
    "-------\n",
    "#### Step 4: Data Preparation\n",
    "<b> 4.1 - Missing value treatment <b>"
   ]
  },
  {
   "cell_type": "code",
   "execution_count": 5,
   "metadata": {},
   "outputs": [
    {
     "data": {
      "text/plain": [
       "booked_y_n               0\n",
       "LeadId                   0\n",
       "Surname                  0\n",
       "months_since_lead_gen    0\n",
       "lead_gen_channel         0\n",
       "Gender                   0\n",
       "Age                      0\n",
       "City                     0\n",
       "airline_loyalty_tier     0\n",
       "no_of_family_members     0\n",
       "is_6M_enquiry            0\n",
       "is_3M_active             0\n",
       "dtype: int64"
      ]
     },
     "execution_count": 5,
     "metadata": {},
     "output_type": "execute_result"
    }
   ],
   "source": [
    "df.isnull().sum()"
   ]
  },
  {
   "cell_type": "markdown",
   "metadata": {},
   "source": [
    "There's no missing values in this dataset.\n",
    "\n",
    "<b> 4.2 - Outlier treatment </b> <br>\n",
    "\n",
    "First let us detect outliers using Z-Score "
   ]
  },
  {
   "cell_type": "code",
   "execution_count": 6,
   "metadata": {},
   "outputs": [
    {
     "name": "stdout",
     "output_type": "stream",
     "text": [
      "(array([  85,  158,  230,  252,  310,  371,  602,  766,  888, 1009, 1039,\n",
      "       1055, 1205, 1342, 1410, 1614, 1790, 1933, 2002, 2012, 2108, 2159,\n",
      "       2164, 2433, 2458, 2553, 2772, 2778, 2855, 2901, 2925, 3033, 3110,\n",
      "       3142, 3311, 3317, 3366, 3378, 3382, 3387, 3396, 3499, 3531, 3602,\n",
      "       3651, 3691, 3702, 3813, 3826, 3880, 3888, 3994, 4162, 4256, 4273,\n",
      "       4318, 4366, 4378, 4501, 4590, 4644, 4801, 4815, 4832, 4931, 5068,\n",
      "       5197, 5223, 5299, 5313, 5377, 5490, 5508, 5664, 5671, 5783, 5840,\n",
      "       5957, 6116, 6167, 6173, 6230, 6278, 6366, 6443, 6530, 6581, 6721,\n",
      "       6759, 7057, 7058, 7063, 7202, 7243, 7272, 7302, 7362, 7375, 7499,\n",
      "       7523, 7526, 7552, 7692, 7719, 7788, 7898, 7956, 8019, 8156, 8217,\n",
      "       8458, 8469, 8686, 8787, 8865, 8900, 9080, 9112, 9292, 9309, 9324,\n",
      "       9333, 9425, 9472, 9490, 9555, 9587, 9589, 9646, 9671, 9736, 9894,\n",
      "       9936], dtype=int64), array([1, 1, 1, 1, 1, 1, 1, 1, 1, 1, 1, 1, 1, 1, 1, 1, 1, 1, 1, 1, 1, 1,\n",
      "       1, 1, 1, 1, 1, 1, 1, 1, 1, 1, 1, 1, 1, 1, 1, 1, 1, 1, 1, 1, 1, 1,\n",
      "       1, 1, 1, 1, 1, 1, 1, 1, 1, 1, 1, 1, 1, 1, 1, 1, 1, 1, 1, 1, 1, 1,\n",
      "       1, 1, 1, 1, 1, 1, 1, 1, 1, 1, 1, 1, 1, 1, 1, 1, 1, 1, 1, 1, 1, 1,\n",
      "       1, 1, 1, 1, 1, 1, 1, 1, 1, 1, 1, 1, 1, 1, 1, 1, 1, 1, 1, 1, 1, 1,\n",
      "       1, 1, 1, 1, 1, 1, 1, 1, 1, 1, 1, 1, 1, 1, 1, 1, 1, 1, 1, 1, 1, 1,\n",
      "       1], dtype=int64))\n"
     ]
    }
   ],
   "source": [
    "from scipy import stats\n",
    "import numpy as np\n",
    "\n",
    "numerics = ['int16', 'int32', 'int64', 'float16', 'float32', 'float64']\n",
    "con_train = df.select_dtypes(include=numerics)\n",
    "z = np.abs(stats.zscore(con_train))\n",
    "print(np.where(z > 3))"
   ]
  },
  {
   "cell_type": "markdown",
   "metadata": {},
   "source": [
    "* Removing Outliers if Z-Score > 3"
   ]
  },
  {
   "cell_type": "code",
   "execution_count": 7,
   "metadata": {},
   "outputs": [
    {
     "name": "stdout",
     "output_type": "stream",
     "text": [
      "(10000, 2)\n",
      "(9867, 2)\n"
     ]
    }
   ],
   "source": [
    "print(con_train.shape)\n",
    "con_train = con_train[(z < 3).all(axis=1)]\n",
    "print(con_train.shape)"
   ]
  },
  {
   "cell_type": "markdown",
   "metadata": {},
   "source": [
    "<b> 4.3 - Redundancy Check <b>"
   ]
  },
  {
   "cell_type": "code",
   "execution_count": 8,
   "metadata": {},
   "outputs": [
    {
     "data": {
      "text/plain": [
       "0"
      ]
     },
     "execution_count": 8,
     "metadata": {},
     "output_type": "execute_result"
    }
   ],
   "source": [
    "df.duplicated('LeadId').sum()"
   ]
  },
  {
   "cell_type": "markdown",
   "metadata": {},
   "source": [
    "<b>4.4 - Imbalance Check </b>"
   ]
  },
  {
   "cell_type": "code",
   "execution_count": 9,
   "metadata": {},
   "outputs": [
    {
     "data": {
      "text/plain": [
       "0    0.7963\n",
       "1    0.2037\n",
       "Name: booked_y_n, dtype: float64"
      ]
     },
     "execution_count": 9,
     "metadata": {},
     "output_type": "execute_result"
    }
   ],
   "source": [
    "df['booked_y_n'].value_counts()/df.shape[0]"
   ]
  },
  {
   "cell_type": "markdown",
   "metadata": {},
   "source": [
    "The dataset is highly imbalanced. We can use sampling methods to address the same.\n",
    "\n",
    "----\n",
    "\n",
    "#### 5. Exploratory Data Analysis\n",
    "<b>5.1 Univariate Analysis </b>"
   ]
  },
  {
   "cell_type": "code",
   "execution_count": 10,
   "metadata": {},
   "outputs": [
    {
     "data": {
      "image/png": "[encoded data removed]",
      "text/plain": [
       "<Figure size 432x288 with 1 Axes>"
      ]
     },
     "metadata": {},
     "output_type": "display_data"
    },
    {
     "data": {
      "image/png": "[encoded data removed]",
      "text/plain": [
       "<Figure size 432x288 with 1 Axes>"
      ]
     },
     "metadata": {},
     "output_type": "display_data"
    }
   ],
   "source": [
    "import matplotlib.pyplot as plt\n",
    "\n",
    "#Histogram\n",
    "plt.hist(df.Age, bins=10)\n",
    "plt.show()\n",
    "\n",
    "#Density Plot\n",
    "sns.kdeplot(df['no_of_family_members'], shade=True)\n",
    "plt.show()"
   ]
  },
  {
   "cell_type": "markdown",
   "metadata": {},
   "source": [
    "<b> 5.2 Bivariate Analysis </b>\n",
    "  - Correlation (Con & Con)"
   ]
  },
  {
   "cell_type": "code",
   "execution_count": 11,
   "metadata": {},
   "outputs": [
    {
     "data": {
      "text/html": [
       "<div>\n",
       "<style scoped>\n",
       "    .dataframe tbody tr th:only-of-type {\n",
       "        vertical-align: middle;\n",
       "    }\n",
       "\n",
       "    .dataframe tbody tr th {\n",
       "        vertical-align: top;\n",
       "    }\n",
       "\n",
       "    .dataframe thead th {\n",
       "        text-align: right;\n",
       "    }\n",
       "</style>\n",
       "<table border=\"1\" class=\"dataframe\">\n",
       "  <thead>\n",
       "    <tr style=\"text-align: right;\">\n",
       "      <th></th>\n",
       "      <th>booked_y_n</th>\n",
       "      <th>Age</th>\n",
       "    </tr>\n",
       "  </thead>\n",
       "  <tbody>\n",
       "    <tr>\n",
       "      <th>booked_y_n</th>\n",
       "      <td>1.000000</td>\n",
       "      <td>0.285323</td>\n",
       "    </tr>\n",
       "    <tr>\n",
       "      <th>Age</th>\n",
       "      <td>0.285323</td>\n",
       "      <td>1.000000</td>\n",
       "    </tr>\n",
       "  </tbody>\n",
       "</table>\n",
       "</div>"
      ],
      "text/plain": [
       "            booked_y_n       Age\n",
       "booked_y_n    1.000000  0.285323\n",
       "Age           0.285323  1.000000"
      ]
     },
     "execution_count": 11,
     "metadata": {},
     "output_type": "execute_result"
    }
   ],
   "source": [
    "df.corr()"
   ]
  },
  {
   "cell_type": "code",
   "execution_count": 12,
   "metadata": {},
   "outputs": [
    {
     "data": {
      "image/png": "[encoded data removed]",
      "text/plain": [
       "<Figure size 432x288 with 1 Axes>"
      ]
     },
     "metadata": {},
     "output_type": "display_data"
    }
   ],
   "source": [
    "#Scatter Plot\n",
    "sns.regplot(y=df[\"Age\"], x=df[\"months_since_lead_gen\"], fit_reg=False)\n",
    "plt.show()"
   ]
  },
  {
   "cell_type": "markdown",
   "metadata": {},
   "source": [
    "* Cross Tab (Cat & Con)"
   ]
  },
  {
   "cell_type": "code",
   "execution_count": 13,
   "metadata": {},
   "outputs": [
    {
     "data": {
      "image/png": "[encoded data removed]",
      "text/plain": [
       "<Figure size 432x288 with 1 Axes>"
      ]
     },
     "metadata": {},
     "output_type": "display_data"
    }
   ],
   "source": [
    "crosstab = pd.crosstab(df.Gender, df['booked_y_n'], margins = True)\n",
    "crosstab.iloc[:-1,:-1]\n",
    "crosstab.iloc[:-1,:-1].plot(kind = 'barh', stacked = True, color = ['red','blue'], alpha = 0.65)\n",
    "plt.show()"
   ]
  },
  {
   "cell_type": "code",
   "execution_count": 14,
   "metadata": {},
   "outputs": [
    {
     "data": {
      "image/png": "[encoded data removed]",
      "text/plain": [
       "<Figure size 432x288 with 1 Axes>"
      ]
     },
     "metadata": {},
     "output_type": "display_data"
    }
   ],
   "source": [
    "crosstab = pd.crosstab(df.months_since_lead_gen, df['booked_y_n'], margins = True)\n",
    "crosstab.iloc[:-1,:-1]\n",
    "crosstab.iloc[:-1,:-1].plot(kind = 'barh', stacked = True, color = ['red','blue'], alpha = 0.65)\n",
    "plt.show()"
   ]
  },
  {
   "cell_type": "code",
   "execution_count": 15,
   "metadata": {},
   "outputs": [
    {
     "data": {
      "image/png": "[encoded data removed]",
      "text/plain": [
       "<Figure size 432x288 with 1 Axes>"
      ]
     },
     "metadata": {},
     "output_type": "display_data"
    }
   ],
   "source": [
    "crosstab = pd.crosstab(df.lead_gen_channel, df['booked_y_n'], margins = True)\n",
    "crosstab.iloc[:-1,:-1]\n",
    "crosstab.iloc[:-1,:-1].plot(kind = 'barh', stacked = True, color = ['red','blue'], alpha = 0.65)\n",
    "plt.show()"
   ]
  },
  {
   "cell_type": "code",
   "execution_count": 16,
   "metadata": {},
   "outputs": [
    {
     "data": {
      "image/png": "[encoded data removed]",
      "text/plain": [
       "<Figure size 432x288 with 1 Axes>"
      ]
     },
     "metadata": {},
     "output_type": "display_data"
    }
   ],
   "source": [
    "crosstab = pd.crosstab(df.no_of_family_members, df['booked_y_n'], margins = True)\n",
    "crosstab.iloc[:-1,:-1]\n",
    "crosstab.iloc[:-1,:-1].plot(kind = 'barh', stacked = True, color = ['red','blue'], alpha = 0.65)\n",
    "plt.show()"
   ]
  },
  {
   "cell_type": "code",
   "execution_count": 17,
   "metadata": {},
   "outputs": [
    {
     "data": {
      "image/png": "[encoded data removed]",
      "text/plain": [
       "<Figure size 432x288 with 1 Axes>"
      ]
     },
     "metadata": {},
     "output_type": "display_data"
    }
   ],
   "source": [
    "crosstab = pd.crosstab(df.no_of_family_members, df['booked_y_n'], margins = True)\n",
    "crosstab.iloc[:-1,:-1]\n",
    "crosstab.iloc[:-1,:-1].plot(kind = 'barh', stacked = True, color = ['red','blue'], alpha = 0.65)\n",
    "plt.show()"
   ]
  },
  {
   "cell_type": "code",
   "execution_count": 18,
   "metadata": {},
   "outputs": [
    {
     "data": {
      "image/png": "[encoded data removed]",
      "text/plain": [
       "<Figure size 432x288 with 1 Axes>"
      ]
     },
     "metadata": {},
     "output_type": "display_data"
    }
   ],
   "source": [
    "crosstab = pd.crosstab(df.is_6M_enquiry, df['booked_y_n'], margins = True)\n",
    "crosstab.iloc[:-1,:-1]\n",
    "crosstab.iloc[:-1,:-1].plot(kind = 'barh', stacked = True, color = ['red','blue'], alpha = 0.65)\n",
    "plt.show()"
   ]
  },
  {
   "cell_type": "code",
   "execution_count": 19,
   "metadata": {},
   "outputs": [
    {
     "data": {
      "image/png": "[encoded data removed]",
      "text/plain": [
       "<Figure size 432x288 with 1 Axes>"
      ]
     },
     "metadata": {},
     "output_type": "display_data"
    }
   ],
   "source": [
    "crosstab = pd.crosstab(df.is_3M_active, df['booked_y_n'], margins = True)\n",
    "crosstab.iloc[:-1,:-1]\n",
    "crosstab.iloc[:-1,:-1].plot(kind = 'barh', stacked = True, color = ['red','blue'], alpha = 0.65)\n",
    "plt.show()"
   ]
  },
  {
   "cell_type": "markdown",
   "metadata": {},
   "source": [
    "----\n",
    "#### 6. Feature Engineering:\n",
    "<b> 6.1 Feature Creation </b>\n",
    "\n",
    "![alt text](1.png)\n",
    "\n",
    "Totally 2,037 leads were converted. Breakdown is as follows -\n",
    "* 00 - Not active & No enquiry\n",
    "* 01 - Not active but did enquiry\n",
    "* 10 - Active but no enquiry\n",
    "* 11 - Active and did enquiry"
   ]
  },
  {
   "cell_type": "code",
   "execution_count": 20,
   "metadata": {},
   "outputs": [],
   "source": [
    "def flag_df(df):\n",
    "    if (df['is_3M_active'] == '1' and df['is_6M_enquiry'] == '0'):\n",
    "        return 'First'\n",
    "    elif (df['is_3M_active'] == '1' and df['is_6M_enquiry'] == '1'):\n",
    "        return 'Second'\n",
    "    elif (df['is_3M_active'] == '0' and df['is_6M_enquiry'] == '0'):\n",
    "        return 'Third'\n",
    "    elif (df['is_3M_active'] == '0' and df['is_6M_enquiry'] == '1'):\n",
    "        return 'Fourth'\n",
    "\n",
    "df['Flag'] = df.apply(flag_df, axis = 1)"
   ]
  },
  {
   "cell_type": "code",
   "execution_count": 21,
   "metadata": {},
   "outputs": [
    {
     "data": {
      "text/html": [
       "<div>\n",
       "<style scoped>\n",
       "    .dataframe tbody tr th:only-of-type {\n",
       "        vertical-align: middle;\n",
       "    }\n",
       "\n",
       "    .dataframe tbody tr th {\n",
       "        vertical-align: top;\n",
       "    }\n",
       "\n",
       "    .dataframe thead th {\n",
       "        text-align: right;\n",
       "    }\n",
       "</style>\n",
       "<table border=\"1\" class=\"dataframe\">\n",
       "  <thead>\n",
       "    <tr style=\"text-align: right;\">\n",
       "      <th></th>\n",
       "      <th>booked_y_n</th>\n",
       "      <th>LeadId</th>\n",
       "      <th>Surname</th>\n",
       "      <th>months_since_lead_gen</th>\n",
       "      <th>lead_gen_channel</th>\n",
       "      <th>Gender</th>\n",
       "      <th>Age</th>\n",
       "      <th>City</th>\n",
       "      <th>airline_loyalty_tier</th>\n",
       "      <th>no_of_family_members</th>\n",
       "      <th>is_6M_enquiry</th>\n",
       "      <th>is_3M_active</th>\n",
       "      <th>Flag</th>\n",
       "    </tr>\n",
       "  </thead>\n",
       "  <tbody>\n",
       "    <tr>\n",
       "      <th>9995</th>\n",
       "      <td>0</td>\n",
       "      <td>15606229</td>\n",
       "      <td>Obijiaku</td>\n",
       "      <td>5</td>\n",
       "      <td>Networks</td>\n",
       "      <td>Male</td>\n",
       "      <td>39</td>\n",
       "      <td>Chennai</td>\n",
       "      <td>None</td>\n",
       "      <td>2</td>\n",
       "      <td>0</td>\n",
       "      <td>1</td>\n",
       "      <td>First</td>\n",
       "    </tr>\n",
       "    <tr>\n",
       "      <th>9996</th>\n",
       "      <td>0</td>\n",
       "      <td>15569892</td>\n",
       "      <td>Johnstone</td>\n",
       "      <td>3</td>\n",
       "      <td>Networks</td>\n",
       "      <td>Male</td>\n",
       "      <td>35</td>\n",
       "      <td>Cochin</td>\n",
       "      <td>None</td>\n",
       "      <td>1</td>\n",
       "      <td>1</td>\n",
       "      <td>1</td>\n",
       "      <td>Second</td>\n",
       "    </tr>\n",
       "    <tr>\n",
       "      <th>9997</th>\n",
       "      <td>1</td>\n",
       "      <td>15584532</td>\n",
       "      <td>Liu</td>\n",
       "      <td>5</td>\n",
       "      <td>Networks</td>\n",
       "      <td>Female</td>\n",
       "      <td>36</td>\n",
       "      <td>Surat</td>\n",
       "      <td>None</td>\n",
       "      <td>1</td>\n",
       "      <td>1</td>\n",
       "      <td>0</td>\n",
       "      <td>Fourth</td>\n",
       "    </tr>\n",
       "    <tr>\n",
       "      <th>9998</th>\n",
       "      <td>1</td>\n",
       "      <td>15682355</td>\n",
       "      <td>Sabbatini</td>\n",
       "      <td>5</td>\n",
       "      <td>Direct</td>\n",
       "      <td>Male</td>\n",
       "      <td>42</td>\n",
       "      <td>Chandigarh</td>\n",
       "      <td>None</td>\n",
       "      <td>2</td>\n",
       "      <td>0</td>\n",
       "      <td>1</td>\n",
       "      <td>First</td>\n",
       "    </tr>\n",
       "    <tr>\n",
       "      <th>9999</th>\n",
       "      <td>0</td>\n",
       "      <td>15628319</td>\n",
       "      <td>Walker</td>\n",
       "      <td>5</td>\n",
       "      <td>Networks</td>\n",
       "      <td>Female</td>\n",
       "      <td>28</td>\n",
       "      <td>Delhi</td>\n",
       "      <td>Silver</td>\n",
       "      <td>1</td>\n",
       "      <td>0</td>\n",
       "      <td>1</td>\n",
       "      <td>First</td>\n",
       "    </tr>\n",
       "  </tbody>\n",
       "</table>\n",
       "</div>"
      ],
      "text/plain": [
       "      booked_y_n    LeadId    Surname months_since_lead_gen lead_gen_channel  \\\n",
       "9995           0  15606229   Obijiaku                     5         Networks   \n",
       "9996           0  15569892  Johnstone                     3         Networks   \n",
       "9997           1  15584532        Liu                     5         Networks   \n",
       "9998           1  15682355  Sabbatini                     5           Direct   \n",
       "9999           0  15628319     Walker                     5         Networks   \n",
       "\n",
       "      Gender  Age        City airline_loyalty_tier no_of_family_members  \\\n",
       "9995    Male   39     Chennai                 None                    2   \n",
       "9996    Male   35      Cochin                 None                    1   \n",
       "9997  Female   36       Surat                 None                    1   \n",
       "9998    Male   42  Chandigarh                 None                    2   \n",
       "9999  Female   28       Delhi               Silver                    1   \n",
       "\n",
       "     is_6M_enquiry is_3M_active    Flag  \n",
       "9995             0            1   First  \n",
       "9996             1            1  Second  \n",
       "9997             1            0  Fourth  \n",
       "9998             0            1   First  \n",
       "9999             0            1   First  "
      ]
     },
     "execution_count": 21,
     "metadata": {},
     "output_type": "execute_result"
    }
   ],
   "source": [
    "df.tail()"
   ]
  },
  {
   "cell_type": "markdown",
   "metadata": {},
   "source": [
    "--------\n",
    "\n",
    "#### 7. Predictive Modeling:\n",
    "\n",
    "<b> 7.1 Encoding categorical variables </b>"
   ]
  },
  {
   "cell_type": "code",
   "execution_count": 22,
   "metadata": {},
   "outputs": [],
   "source": [
    "#Step 1 - Data Preprocessing. Conv text to numbers. \n",
    "#Label encoder is used to conv categories to num\n",
    "\n",
    "from sklearn.preprocessing import LabelEncoder\n",
    "categorical_variables = df.dtypes[df.dtypes == 'object'].index\n",
    "categorical_variables\n",
    "\n",
    "#Conv them using Label Encoder\n",
    "le = LabelEncoder()\n",
    "for var in categorical_variables:\n",
    "    df[var] = le.fit_transform(df[var])"
   ]
  },
  {
   "cell_type": "markdown",
   "metadata": {},
   "source": [
    "<b> 7.2 Comparing ML algos </b>"
   ]
  },
  {
   "cell_type": "code",
   "execution_count": 23,
   "metadata": {},
   "outputs": [],
   "source": [
    "from matplotlib import pyplot\n",
    "from sklearn.model_selection import train_test_split\n",
    "from sklearn.metrics import classification_report\n",
    "from sklearn.metrics import confusion_matrix\n",
    "from sklearn.metrics import accuracy_score\n",
    "from sklearn.model_selection import KFold\n",
    "from sklearn.model_selection import cross_val_score\n",
    "from sklearn.linear_model import LogisticRegression\n",
    "from sklearn.tree import DecisionTreeClassifier\n",
    "from sklearn.neighbors import KNeighborsClassifier\n",
    "from sklearn.ensemble import RandomForestClassifier\n",
    "from sklearn.discriminant_analysis import LinearDiscriminantAnalysis\n",
    "from sklearn.naive_bayes import GaussianNB\n",
    "from sklearn.svm import SVC\n",
    "\n",
    "num_trees = 200\n",
    "max_features = 3\n",
    "models = []\n",
    "models.append(('LR', LogisticRegression()))\n",
    "models.append(('LDA', LinearDiscriminantAnalysis()))\n",
    "models.append(('KNN', KNeighborsClassifier()))\n",
    "models.append(('CART', DecisionTreeClassifier()))\n",
    "models.append(('RF', RandomForestClassifier(n_estimators=num_trees, max_features=max_features)))\n",
    "models.append(('NB', GaussianNB()))\n",
    "models.append(('SVM', SVC()))"
   ]
  },
  {
   "cell_type": "code",
   "execution_count": 24,
   "metadata": {},
   "outputs": [
    {
     "name": "stdout",
     "output_type": "stream",
     "text": [
      "(9000, 12)\n",
      "(1000, 12)\n",
      "(9000,)\n",
      "(1000,)\n"
     ]
    }
   ],
   "source": [
    "import warnings\n",
    "warnings.filterwarnings(\"ignore\", category=FutureWarning)\n",
    "#Step 1: Convert Dataframe into matrix\n",
    "dataArray = df.values\n",
    "\n",
    "#Step 2: Splitting Input features & Output Variables\n",
    "X = df.iloc[:, 1:]\n",
    "y = df.iloc[:, 0]\n",
    "\n",
    "#Step 3: Splitting training & testing\n",
    "validation_size = 0.10\n",
    "seed = 9\n",
    "X_train, X_test, Y_train, Y_test = train_test_split(X,y,test_size=validation_size, random_state = seed)\n",
    "\n",
    "print(X_train.shape)\n",
    "print(X_test.shape)\n",
    "print(Y_train.shape)\n",
    "print(Y_test.shape)"
   ]
  },
  {
   "cell_type": "code",
   "execution_count": 25,
   "metadata": {},
   "outputs": [
    {
     "name": "stdout",
     "output_type": "stream",
     "text": [
      "LR: 0.809556 (0.012835)\n",
      "LDA: 0.808222 (0.010198)\n",
      "KNN: 0.763111 (0.016628)\n",
      "CART: 0.781889 (0.011429)\n",
      "RF: 0.859333 (0.010113)\n",
      "NB: 0.832778 (0.006111)\n",
      "SVM: 0.796444 (0.014839)\n"
     ]
    }
   ],
   "source": [
    "num_trees = 200\n",
    "max_features = 3\n",
    "models = []\n",
    "models.append(('LR', LogisticRegression()))\n",
    "models.append(('LDA', LinearDiscriminantAnalysis()))\n",
    "models.append(('KNN', KNeighborsClassifier()))\n",
    "models.append(('CART', DecisionTreeClassifier()))\n",
    "models.append(('RF', RandomForestClassifier(n_estimators=num_trees, max_features=max_features)))\n",
    "models.append(('NB', GaussianNB()))\n",
    "models.append(('SVM', SVC()))\n",
    "\n",
    "#Fit Models and Evaulate\n",
    "\n",
    "results = []\n",
    "names = []\n",
    "scoring = 'accuracy'\n",
    "\n",
    "#Cross Validation\n",
    "for name, model in models:\n",
    " kfold = KFold(n_splits = 10, random_state=7)\n",
    " cv_results = cross_val_score(model, X_train, Y_train, cv=kfold, scoring = scoring)\n",
    " results.append(cv_results)\n",
    " names.append(name)\n",
    " msg = \"%s: %f (%f)\" % (name,cv_results.mean(), cv_results.std())\n",
    " print(msg)"
   ]
  },
  {
   "cell_type": "code",
   "execution_count": 26,
   "metadata": {},
   "outputs": [
    {
     "data": {
      "image/png": "[encoded data removed]",
      "text/plain": [
       "<Figure size 432x288 with 1 Axes>"
      ]
     },
     "metadata": {},
     "output_type": "display_data"
    }
   ],
   "source": [
    "#lets box plot model scores\n",
    "\n",
    "fig = pyplot.figure()\n",
    "fig.suptitle('ML algo comparison')\n",
    "ax = fig.add_subplot(111)\n",
    "pyplot.boxplot(results)\n",
    "ax.set_xticklabels(names)\n",
    "pyplot.show()"
   ]
  },
  {
   "cell_type": "markdown",
   "metadata": {},
   "source": [
    "RF gave the best accuracy since Tree based models are better equipped to handle imbalanced datasets <br>\n",
    "However, for our use case, accuracy is not the best metric to track. <br>\n",
    "Here the cost of False negative is higher then the cost of False positive.\n",
    "\n",
    "-----\n",
    "<b> 7.3 Validation - Accuracy and Recall </b>"
   ]
  },
  {
   "cell_type": "code",
   "execution_count": 27,
   "metadata": {},
   "outputs": [
    {
     "name": "stdout",
     "output_type": "stream",
     "text": [
      "Model --- RF\n",
      "Accuracy: 86.5 \n",
      "              precision    recall  f1-score   support\n",
      "\n",
      "           0       0.88      0.96      0.92       795\n",
      "           1       0.78      0.48      0.59       205\n",
      "\n",
      "   micro avg       0.86      0.86      0.86      1000\n",
      "   macro avg       0.83      0.72      0.76      1000\n",
      "weighted avg       0.86      0.86      0.85      1000\n",
      "\n"
     ]
    }
   ],
   "source": [
    "#create prediction model\n",
    "model = RandomForestClassifier(n_estimators=num_trees, max_features=max_features)\n",
    "\n",
    "#fit model\n",
    "model.fit(X_train, Y_train)\n",
    "\n",
    "#predict!\n",
    "predictions = model.predict(X_test)\n",
    "\n",
    "#check accuracy\n",
    "print(\"Model --- RF\")\n",
    "print(\"Accuracy: {} \".format(accuracy_score(Y_test,predictions) * 100))\n",
    "print(classification_report(Y_test, predictions))"
   ]
  },
  {
   "cell_type": "code",
   "execution_count": 28,
   "metadata": {},
   "outputs": [
    {
     "data": {
      "image/png": "[encoded data removed]",
      "text/plain": [
       "<Figure size 432x288 with 2 Axes>"
      ]
     },
     "metadata": {},
     "output_type": "display_data"
    },
    {
     "data": {
      "text/plain": [
       "<Figure size 648x648 with 0 Axes>"
      ]
     },
     "metadata": {},
     "output_type": "display_data"
    }
   ],
   "source": [
    "#plotting confusion matrix on heatmap\n",
    "cm = confusion_matrix(Y_test, predictions)\n",
    "sns.heatmap(cm, annot=True, xticklabels=['0','1'], yticklabels=['0','1'])\n",
    "plt.figure(figsize=(9,9))\n",
    "plt.show()"
   ]
  },
  {
   "cell_type": "markdown",
   "metadata": {},
   "source": [
    "Here we can see the biased nature of the dataset. This might become a huge problem when the model moves into production. <br>\n",
    "We can curb this by using resampling techniques.\n",
    "\n",
    "----\n",
    "<b> 7.4 Resampling and Remodeling <b>"
   ]
  },
  {
   "cell_type": "code",
   "execution_count": 29,
   "metadata": {},
   "outputs": [],
   "source": [
    "import numpy as np\n",
    "import pandas as pd\n",
    "from sklearn.ensemble import RandomForestClassifier\n",
    "from sklearn.model_selection import train_test_split\n",
    "from sklearn.metrics import recall_score\n",
    "from imblearn.over_sampling import SMOTE"
   ]
  },
  {
   "cell_type": "code",
   "execution_count": 30,
   "metadata": {},
   "outputs": [
    {
     "data": {
      "text/plain": [
       "0    7963\n",
       "1    2037\n",
       "Name: booked_y_n, dtype: int64"
      ]
     },
     "execution_count": 30,
     "metadata": {},
     "output_type": "execute_result"
    }
   ],
   "source": [
    "df.booked_y_n.value_counts()"
   ]
  },
  {
   "cell_type": "code",
   "execution_count": 31,
   "metadata": {},
   "outputs": [],
   "source": [
    "df_encoded = pd.get_dummies(df)"
   ]
  },
  {
   "cell_type": "code",
   "execution_count": 32,
   "metadata": {},
   "outputs": [],
   "source": [
    "training_features, test_features, \\\n",
    "training_target, test_target, = train_test_split(df_encoded.drop(['booked_y_n'], axis=1),\n",
    "                                               df_encoded['booked_y_n'],\n",
    "                                               test_size = .1,\n",
    "                                               random_state=12)\n"
   ]
  },
  {
   "cell_type": "code",
   "execution_count": 33,
   "metadata": {},
   "outputs": [],
   "source": [
    "x_train, x_val, y_train, y_val = train_test_split(training_features, training_target,\n",
    "                                                  test_size = .1,\n",
    "                                                  random_state=12)"
   ]
  },
  {
   "cell_type": "code",
   "execution_count": 34,
   "metadata": {},
   "outputs": [],
   "source": [
    "sm = SMOTE(random_state=12, ratio = 1.0)\n",
    "x_train_res, y_train_res = sm.fit_sample(x_train, y_train)\n"
   ]
  },
  {
   "cell_type": "code",
   "execution_count": 35,
   "metadata": {},
   "outputs": [
    {
     "data": {
      "text/plain": [
       "RandomForestClassifier(bootstrap=True, class_weight=None, criterion='gini',\n",
       "            max_depth=None, max_features='auto', max_leaf_nodes=None,\n",
       "            min_impurity_decrease=0.0, min_impurity_split=None,\n",
       "            min_samples_leaf=1, min_samples_split=2,\n",
       "            min_weight_fraction_leaf=0.0, n_estimators=25, n_jobs=None,\n",
       "            oob_score=False, random_state=12, verbose=0, warm_start=False)"
      ]
     },
     "execution_count": 35,
     "metadata": {},
     "output_type": "execute_result"
    }
   ],
   "source": [
    "clf_rf = RandomForestClassifier(n_estimators=25, random_state=12)\n",
    "clf_rf.fit(x_train_res, y_train_res)"
   ]
  },
  {
   "cell_type": "code",
   "execution_count": 36,
   "metadata": {},
   "outputs": [
    {
     "name": "stdout",
     "output_type": "stream",
     "text": [
      "Validation Results\n",
      "0.8222222222222222\n",
      "0.5659340659340659\n",
      "\n",
      "Test Results\n",
      "0.823\n",
      "0.596244131455399\n"
     ]
    }
   ],
   "source": [
    "print('Validation Results')\n",
    "print(clf_rf.score(x_val, y_val))\n",
    "print(recall_score(y_val, clf_rf.predict(x_val)))\n",
    "print('\\nTest Results')\n",
    "print(clf_rf.score(test_features, test_target))\n",
    "print(recall_score(test_target, clf_rf.predict(test_features)))"
   ]
  },
  {
   "cell_type": "markdown",
   "metadata": {},
   "source": [
    "Here we can see the results between validation set and test set and pretty close and hence we can say we a certain level of confidence that the model will generalize well"
   ]
  },
  {
   "cell_type": "markdown",
   "metadata": {},
   "source": [
    "----------\n",
    "<b> 7.5 Saving the model <b>"
   ]
  },
  {
   "cell_type": "code",
   "execution_count": 39,
   "metadata": {},
   "outputs": [],
   "source": [
    "import pickle\n",
    "pickle.dump(model, open(\"C:/Users/HEWLETT PACKARD\\Desktop\\PYT\\gofornaman.github.io/pyt/deployed/Prediction/NNmodel/model.pkl\",\"wb\"))"
   ]
  },
  {
   "cell_type": "markdown",
   "metadata": {},
   "source": [
    "----\n",
    "<b> 7.6 Deployment Screenshots <b>\n",
    "\n",
    "<img src=\"1.png\">\n",
    "<img src=\"2.png\">\n",
    "    \n",
    "------------"
   ]
  },
  {
   "cell_type": "markdown",
   "metadata": {},
   "source": [
    "#### 8. External Links:\n",
    "\n",
    "* Deployment Link -\n",
    "* Dashboard Link - \n",
    "* Colab Link -\n",
    "* Github Link - \n",
    "\n",
    "-----------"
   ]
  },
  {
   "cell_type": "code",
   "execution_count": null,
   "metadata": {},
   "outputs": [],
   "source": []
  }
 ],
 "metadata": {
  "kernelspec": {
   "display_name": "Python 3",
   "language": "python",
   "name": "python3"
  },
  "language_info": {
   "codemirror_mode": {
    "name": "ipython",
    "version": 3
   },
   "file_extension": ".py",
   "mimetype": "text/x-python",
   "name": "python",
   "nbconvert_exporter": "python",
   "pygments_lexer": "ipython3",
   "version": "3.6.6"
  }
 },
 "nbformat": 4,
 "nbformat_minor": 2
}
